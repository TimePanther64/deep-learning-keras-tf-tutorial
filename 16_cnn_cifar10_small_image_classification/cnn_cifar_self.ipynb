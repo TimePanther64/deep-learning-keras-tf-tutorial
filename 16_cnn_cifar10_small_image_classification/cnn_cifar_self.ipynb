{
 "cells": [
  {
   "cell_type": "code",
   "execution_count": 1,
   "metadata": {},
   "outputs": [],
   "source": [
    "import tensorflow as tf\n",
    "from tensorflow import keras\n",
    "import numpy as np\n",
    "import pandas as pd\n",
    "import matplotlib.pyplot as plt"
   ]
  },
  {
   "cell_type": "code",
   "execution_count": 5,
   "metadata": {},
   "outputs": [
    {
     "name": "stdout",
     "output_type": "stream",
     "text": [
      "Downloading data from https://www.cs.toronto.edu/~kriz/cifar-10-python.tar.gz\n",
      "170498071/170498071 [==============================] - 802s 5us/step\n"
     ]
    },
    {
     "data": {
      "text/plain": [
       "(50000, 32, 32, 3)"
      ]
     },
     "execution_count": 5,
     "metadata": {},
     "output_type": "execute_result"
    }
   ],
   "source": [
    "(xtrain, ytrain), (xtest, ytest) = keras.datasets.cifar10.load_data()\n",
    "xtrain.shape"
   ]
  },
  {
   "cell_type": "code",
   "execution_count": 7,
   "metadata": {},
   "outputs": [
    {
     "data": {
      "text/plain": [
       "<matplotlib.image.AxesImage at 0x20d79c308e0>"
      ]
     },
     "execution_count": 7,
     "metadata": {},
     "output_type": "execute_result"
    },
    {
     "data": {
      "image/png": "[encoded data removed]",
      "text/plain": [
       "<Figure size 640x480 with 1 Axes>"
      ]
     },
     "metadata": {},
     "output_type": "display_data"
    }
   ],
   "source": [
    "image = xtrain[1]\n",
    "plt.imshow(image)"
   ]
  },
  {
   "cell_type": "code",
   "execution_count": 8,
   "metadata": {},
   "outputs": [],
   "source": [
    "classes = ['airplane', 'automobile', 'bird', 'cat', 'deer', 'dog', 'frog', 'horse', 'ship', 'truck']"
   ]
  },
  {
   "cell_type": "code",
   "execution_count": 12,
   "metadata": {},
   "outputs": [
    {
     "data": {
      "text/plain": [
       "(50000,)"
      ]
     },
     "execution_count": 12,
     "metadata": {},
     "output_type": "execute_result"
    }
   ],
   "source": [
    "ytrain = ytrain.reshape(-1,)\n",
    "ytrain.shape"
   ]
  },
  {
   "cell_type": "code",
   "execution_count": 19,
   "metadata": {},
   "outputs": [
    {
     "data": {
      "image/png": "[encoded data removed]",
      "text/plain": [
       "<Figure size 200x200 with 1 Axes>"
      ]
     },
     "metadata": {},
     "output_type": "display_data"
    }
   ],
   "source": [
    "def plot_sample(x, y, index):\n",
    "  plt.figure(figsize=(2,2))\n",
    "  image = x[index]\n",
    "  plt.imshow(image)\n",
    "  plt.xlabel(classes[y[index]])\n",
    "\n",
    "plot_sample(xtrain, ytrain, 18)"
   ]
  },
  {
   "cell_type": "code",
   "execution_count": 20,
   "metadata": {},
   "outputs": [],
   "source": [
    "ytest = ytest.reshape(-1,)"
   ]
  },
  {
   "cell_type": "code",
   "execution_count": 21,
   "metadata": {},
   "outputs": [],
   "source": [
    "xtrain = xtrain / 255\n",
    "xtest = xtest / 255"
   ]
  },
  {
   "cell_type": "code",
   "execution_count": 29,
   "metadata": {},
   "outputs": [
    {
     "name": "stdout",
     "output_type": "stream",
     "text": [
      "Epoch 1/100\n",
      "1563/1563 [==============================] - 31s 20ms/step - loss: 1.4766 - accuracy: 0.4681\n",
      "Epoch 2/100\n",
      "1563/1563 [==============================] - 27s 17ms/step - loss: 1.1386 - accuracy: 0.5999\n",
      "Epoch 3/100\n",
      "1563/1563 [==============================] - 28s 18ms/step - loss: 1.0110 - accuracy: 0.6479\n",
      "Epoch 4/100\n",
      "1563/1563 [==============================] - 26s 17ms/step - loss: 0.9287 - accuracy: 0.6763\n",
      "Epoch 5/100\n",
      "1563/1563 [==============================] - 27s 17ms/step - loss: 0.8640 - accuracy: 0.6995\n",
      "Epoch 6/100\n",
      "1563/1563 [==============================] - 27s 17ms/step - loss: 0.8094 - accuracy: 0.7196\n",
      "Epoch 7/100\n",
      "1563/1563 [==============================] - 27s 18ms/step - loss: 0.7581 - accuracy: 0.7384\n",
      "Epoch 8/100\n",
      "1563/1563 [==============================] - 28s 18ms/step - loss: 0.7144 - accuracy: 0.7551\n",
      "Epoch 9/100\n",
      "1563/1563 [==============================] - 27s 18ms/step - loss: 0.6750 - accuracy: 0.7672\n",
      "Epoch 10/100\n",
      "1563/1563 [==============================] - 28s 18ms/step - loss: 0.6351 - accuracy: 0.7810\n",
      "Epoch 11/100\n",
      "1563/1563 [==============================] - 27s 18ms/step - loss: 0.6016 - accuracy: 0.7901\n",
      "Epoch 12/100\n",
      "1563/1563 [==============================] - 28s 18ms/step - loss: 0.5671 - accuracy: 0.8035\n",
      "Epoch 13/100\n",
      "1563/1563 [==============================] - 28s 18ms/step - loss: 0.5406 - accuracy: 0.8092\n",
      "Epoch 14/100\n",
      "1563/1563 [==============================] - 28s 18ms/step - loss: 0.5082 - accuracy: 0.8239\n",
      "Epoch 15/100\n",
      "1563/1563 [==============================] - 28s 18ms/step - loss: 0.4810 - accuracy: 0.8307\n",
      "Epoch 16/100\n",
      "1563/1563 [==============================] - 28s 18ms/step - loss: 0.4530 - accuracy: 0.8394\n",
      "Epoch 17/100\n",
      "1563/1563 [==============================] - 28s 18ms/step - loss: 0.4302 - accuracy: 0.8495\n",
      "Epoch 18/100\n",
      "1563/1563 [==============================] - 28s 18ms/step - loss: 0.3971 - accuracy: 0.8597\n",
      "Epoch 19/100\n",
      "1563/1563 [==============================] - 27s 18ms/step - loss: 0.3767 - accuracy: 0.8680\n",
      "Epoch 20/100\n",
      "1563/1563 [==============================] - 28s 18ms/step - loss: 0.3562 - accuracy: 0.8738\n",
      "Epoch 21/100\n",
      "1563/1563 [==============================] - 28s 18ms/step - loss: 0.3284 - accuracy: 0.8825\n",
      "Epoch 22/100\n",
      "1563/1563 [==============================] - 28s 18ms/step - loss: 0.3130 - accuracy: 0.8891\n",
      "Epoch 23/100\n",
      "1563/1563 [==============================] - 28s 18ms/step - loss: 0.2899 - accuracy: 0.8973\n",
      "Epoch 24/100\n",
      "1563/1563 [==============================] - 28s 18ms/step - loss: 0.2731 - accuracy: 0.9034\n",
      "Epoch 25/100\n",
      "1563/1563 [==============================] - 28s 18ms/step - loss: 0.2570 - accuracy: 0.9076\n",
      "Epoch 26/100\n",
      "1563/1563 [==============================] - 28s 18ms/step - loss: 0.2408 - accuracy: 0.9132\n",
      "Epoch 27/100\n",
      "1563/1563 [==============================] - 28s 18ms/step - loss: 0.2270 - accuracy: 0.9185\n",
      "Epoch 28/100\n",
      "1563/1563 [==============================] - 28s 18ms/step - loss: 0.2153 - accuracy: 0.9227\n",
      "Epoch 29/100\n",
      "1563/1563 [==============================] - 28s 18ms/step - loss: 0.1970 - accuracy: 0.9288\n",
      "Epoch 30/100\n",
      "1563/1563 [==============================] - 28s 18ms/step - loss: 0.1947 - accuracy: 0.9302\n",
      "Epoch 31/100\n",
      "1563/1563 [==============================] - 28s 18ms/step - loss: 0.1820 - accuracy: 0.9339\n",
      "Epoch 32/100\n",
      "1563/1563 [==============================] - 28s 18ms/step - loss: 0.1814 - accuracy: 0.9330\n",
      "Epoch 33/100\n",
      "1563/1563 [==============================] - 28s 18ms/step - loss: 0.1646 - accuracy: 0.9413\n",
      "Epoch 34/100\n",
      "1563/1563 [==============================] - 28s 18ms/step - loss: 0.1596 - accuracy: 0.9430\n",
      "Epoch 35/100\n",
      "1563/1563 [==============================] - 28s 18ms/step - loss: 0.1505 - accuracy: 0.9465\n",
      "Epoch 36/100\n",
      "1563/1563 [==============================] - 28s 18ms/step - loss: 0.1437 - accuracy: 0.9488\n",
      "Epoch 37/100\n",
      "1563/1563 [==============================] - 28s 18ms/step - loss: 0.1430 - accuracy: 0.9496\n",
      "Epoch 38/100\n",
      "1563/1563 [==============================] - 27s 18ms/step - loss: 0.1401 - accuracy: 0.9497\n",
      "Epoch 39/100\n",
      "1563/1563 [==============================] - 28s 18ms/step - loss: 0.1313 - accuracy: 0.9524\n",
      "Epoch 40/100\n",
      "1563/1563 [==============================] - 28s 18ms/step - loss: 0.1355 - accuracy: 0.9520\n",
      "Epoch 41/100\n",
      "1563/1563 [==============================] - 28s 18ms/step - loss: 0.1180 - accuracy: 0.9578\n",
      "Epoch 42/100\n",
      "1563/1563 [==============================] - 28s 18ms/step - loss: 0.1192 - accuracy: 0.9580\n",
      "Epoch 43/100\n",
      "1563/1563 [==============================] - 28s 18ms/step - loss: 0.1259 - accuracy: 0.9556\n",
      "Epoch 44/100\n",
      "1563/1563 [==============================] - 28s 18ms/step - loss: 0.1137 - accuracy: 0.9592\n",
      "Epoch 45/100\n",
      "1563/1563 [==============================] - 28s 18ms/step - loss: 0.1143 - accuracy: 0.9601\n",
      "Epoch 46/100\n",
      "1563/1563 [==============================] - 28s 18ms/step - loss: 0.1068 - accuracy: 0.9622\n",
      "Epoch 47/100\n",
      "1563/1563 [==============================] - 28s 18ms/step - loss: 0.1168 - accuracy: 0.9604\n",
      "Epoch 48/100\n",
      "1563/1563 [==============================] - 28s 18ms/step - loss: 0.1118 - accuracy: 0.9612\n",
      "Epoch 49/100\n",
      "1563/1563 [==============================] - 28s 18ms/step - loss: 0.1022 - accuracy: 0.9647\n",
      "Epoch 50/100\n",
      "1563/1563 [==============================] - 28s 18ms/step - loss: 0.0958 - accuracy: 0.9659\n",
      "Epoch 51/100\n",
      "1563/1563 [==============================] - 28s 18ms/step - loss: 0.1080 - accuracy: 0.9621\n",
      "Epoch 52/100\n",
      "1563/1563 [==============================] - 28s 18ms/step - loss: 0.0968 - accuracy: 0.9660\n",
      "Epoch 53/100\n",
      "1563/1563 [==============================] - 28s 18ms/step - loss: 0.1015 - accuracy: 0.9650\n",
      "Epoch 54/100\n",
      "1563/1563 [==============================] - 28s 18ms/step - loss: 0.0911 - accuracy: 0.9689\n",
      "Epoch 55/100\n",
      "1563/1563 [==============================] - 28s 18ms/step - loss: 0.0983 - accuracy: 0.9670\n",
      "Epoch 56/100\n",
      "1563/1563 [==============================] - 28s 18ms/step - loss: 0.1000 - accuracy: 0.9659\n",
      "Epoch 57/100\n",
      "1563/1563 [==============================] - 28s 18ms/step - loss: 0.0841 - accuracy: 0.9701\n",
      "Epoch 58/100\n",
      "1563/1563 [==============================] - 28s 18ms/step - loss: 0.0912 - accuracy: 0.9677\n",
      "Epoch 59/100\n",
      "1563/1563 [==============================] - 28s 18ms/step - loss: 0.1077 - accuracy: 0.9637\n",
      "Epoch 60/100\n",
      "1563/1563 [==============================] - 28s 18ms/step - loss: 0.0799 - accuracy: 0.9727\n",
      "Epoch 61/100\n",
      "1563/1563 [==============================] - 28s 18ms/step - loss: 0.0857 - accuracy: 0.9706\n",
      "Epoch 62/100\n",
      "1563/1563 [==============================] - 28s 18ms/step - loss: 0.0889 - accuracy: 0.9691\n",
      "Epoch 63/100\n",
      "1563/1563 [==============================] - 28s 18ms/step - loss: 0.0845 - accuracy: 0.9710\n",
      "Epoch 64/100\n",
      "1563/1563 [==============================] - 28s 18ms/step - loss: 0.0843 - accuracy: 0.9713\n",
      "Epoch 65/100\n",
      "1563/1563 [==============================] - 28s 18ms/step - loss: 0.0868 - accuracy: 0.9713\n",
      "Epoch 66/100\n",
      "1563/1563 [==============================] - 28s 18ms/step - loss: 0.0852 - accuracy: 0.9711\n",
      "Epoch 67/100\n",
      "1563/1563 [==============================] - 28s 18ms/step - loss: 0.0851 - accuracy: 0.9721\n",
      "Epoch 68/100\n",
      "1563/1563 [==============================] - 28s 18ms/step - loss: 0.0766 - accuracy: 0.9737\n",
      "Epoch 69/100\n",
      "1563/1563 [==============================] - 28s 18ms/step - loss: 0.0766 - accuracy: 0.9745\n",
      "Epoch 70/100\n",
      "1563/1563 [==============================] - 28s 18ms/step - loss: 0.0830 - accuracy: 0.9719\n",
      "Epoch 71/100\n",
      "1563/1563 [==============================] - 28s 18ms/step - loss: 0.0764 - accuracy: 0.9745\n",
      "Epoch 72/100\n",
      "1563/1563 [==============================] - 28s 18ms/step - loss: 0.0776 - accuracy: 0.9743\n",
      "Epoch 73/100\n",
      "1563/1563 [==============================] - 28s 18ms/step - loss: 0.0801 - accuracy: 0.9733\n",
      "Epoch 74/100\n",
      "1563/1563 [==============================] - 28s 18ms/step - loss: 0.0699 - accuracy: 0.9775\n",
      "Epoch 75/100\n",
      "1563/1563 [==============================] - 28s 18ms/step - loss: 0.0801 - accuracy: 0.9725\n",
      "Epoch 76/100\n",
      "1563/1563 [==============================] - 28s 18ms/step - loss: 0.0701 - accuracy: 0.9761\n",
      "Epoch 77/100\n",
      "1563/1563 [==============================] - 28s 18ms/step - loss: 0.0772 - accuracy: 0.9742\n",
      "Epoch 78/100\n",
      "1563/1563 [==============================] - 28s 18ms/step - loss: 0.0712 - accuracy: 0.9770\n",
      "Epoch 79/100\n",
      "1563/1563 [==============================] - 28s 18ms/step - loss: 0.0735 - accuracy: 0.9756\n",
      "Epoch 80/100\n",
      "1563/1563 [==============================] - 28s 18ms/step - loss: 0.0766 - accuracy: 0.9747\n",
      "Epoch 81/100\n",
      "1563/1563 [==============================] - 29s 18ms/step - loss: 0.0724 - accuracy: 0.9769\n",
      "Epoch 82/100\n",
      "1563/1563 [==============================] - 28s 18ms/step - loss: 0.0698 - accuracy: 0.9768\n",
      "Epoch 83/100\n",
      "1563/1563 [==============================] - 28s 18ms/step - loss: 0.0709 - accuracy: 0.9772\n",
      "Epoch 84/100\n",
      "1563/1563 [==============================] - 28s 18ms/step - loss: 0.0697 - accuracy: 0.9779\n",
      "Epoch 85/100\n",
      "1563/1563 [==============================] - 28s 18ms/step - loss: 0.0800 - accuracy: 0.9740\n",
      "Epoch 86/100\n",
      "1563/1563 [==============================] - 28s 18ms/step - loss: 0.0615 - accuracy: 0.9802\n",
      "Epoch 87/100\n",
      "1563/1563 [==============================] - 28s 18ms/step - loss: 0.0775 - accuracy: 0.9749\n",
      "Epoch 88/100\n",
      "1563/1563 [==============================] - 28s 18ms/step - loss: 0.0682 - accuracy: 0.9784\n",
      "Epoch 89/100\n",
      "1563/1563 [==============================] - 28s 18ms/step - loss: 0.0732 - accuracy: 0.9767\n",
      "Epoch 90/100\n",
      "1563/1563 [==============================] - 28s 18ms/step - loss: 0.0591 - accuracy: 0.9801\n",
      "Epoch 91/100\n",
      "1563/1563 [==============================] - 28s 18ms/step - loss: 0.0678 - accuracy: 0.9782\n",
      "Epoch 92/100\n",
      "1563/1563 [==============================] - 28s 18ms/step - loss: 0.0702 - accuracy: 0.9782\n",
      "Epoch 93/100\n",
      "1563/1563 [==============================] - 28s 18ms/step - loss: 0.0700 - accuracy: 0.9782\n",
      "Epoch 94/100\n",
      "1563/1563 [==============================] - 28s 18ms/step - loss: 0.0574 - accuracy: 0.9812\n",
      "Epoch 95/100\n",
      "1563/1563 [==============================] - 28s 18ms/step - loss: 0.0731 - accuracy: 0.9769\n",
      "Epoch 96/100\n",
      "1563/1563 [==============================] - 28s 18ms/step - loss: 0.0631 - accuracy: 0.9804\n",
      "Epoch 97/100\n",
      "1563/1563 [==============================] - 28s 18ms/step - loss: 0.0638 - accuracy: 0.9800\n",
      "Epoch 98/100\n",
      "1563/1563 [==============================] - 28s 18ms/step - loss: 0.0703 - accuracy: 0.9783\n",
      "Epoch 99/100\n",
      "1563/1563 [==============================] - 28s 18ms/step - loss: 0.0669 - accuracy: 0.9787\n",
      "Epoch 100/100\n",
      "1563/1563 [==============================] - 28s 18ms/step - loss: 0.0626 - accuracy: 0.9799\n"
     ]
    },
    {
     "data": {
      "text/plain": [
       "<keras.callbacks.History at 0x20d1018e110>"
      ]
     },
     "execution_count": 29,
     "metadata": {},
     "output_type": "execute_result"
    }
   ],
   "source": [
    "cnn = keras.models.Sequential([\n",
    "  keras.layers.Conv2D(filters=32, kernel_size=(3,3), activation='relu', input_shape=(32,32,3)),\n",
    "  keras.layers.MaxPool2D((2,2)),\n",
    "\n",
    "  keras.layers.Conv2D(filters=64, kernel_size=(3,3), activation='relu'),\n",
    "  keras.layers.MaxPool2D((2,2)),\n",
    "\n",
    "  keras.layers.Flatten(),\n",
    "  keras.layers.Dense(64, activation='relu'),\n",
    "  keras.layers.Dense(10, activation='softmax')\n",
    "])\n",
    "\n",
    "cnn.compile(optimizer='adam', loss='sparse_categorical_crossentropy', metrics=['accuracy'])\n",
    "\n",
    "cnn.fit(xtrain, ytrain, epochs=100)"
   ]
  },
  {
   "cell_type": "code",
   "execution_count": null,
   "metadata": {},
   "outputs": [],
   "source": []
  }
 ],
 "metadata": {
  "kernelspec": {
   "display_name": "Python 3.10.6 64-bit",
   "language": "python",
   "name": "python3"
  },
  "language_info": {
   "codemirror_mode": {
    "name": "ipython",
    "version": 3
   },
   "file_extension": ".py",
   "mimetype": "text/x-python",
   "name": "python",
   "nbconvert_exporter": "python",
   "pygments_lexer": "ipython3",
   "version": "3.10.6"
  },
  "orig_nbformat": 4,
  "vscode": {
   "interpreter": {
    "hash": "07cb5396c7e024cf7240f99215d98eaebb52715654e260c1acfe991b32079d84"
   }
  }
 },
 "nbformat": 4,
 "nbformat_minor": 2
}
